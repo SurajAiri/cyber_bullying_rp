{
 "cells": [
  {
   "cell_type": "code",
   "execution_count": 1,
   "id": "14a94be9-37a6-4fa1-8bef-3e060557b4b3",
   "metadata": {},
   "outputs": [],
   "source": [
    "import numpy as np\n",
    "import pandas as pd\n",
    "\n"
   ]
  },
  {
   "cell_type": "code",
   "execution_count": 2,
   "id": "c54aa1a9-bb03-43c3-9ea4-9b4e409051bd",
   "metadata": {},
   "outputs": [],
   "source": [
    "data_path = \"../../dataset/3-5modified.csv\"\n",
    "res_path = \"result.csv\""
   ]
  },
  {
   "cell_type": "code",
   "execution_count": 3,
   "id": "7d405ffe-a601-4c66-9daf-21cd31703b4b",
   "metadata": {},
   "outputs": [],
   "source": [
    "df = pd.read_csv(data_path)"
   ]
  },
  {
   "cell_type": "code",
   "execution_count": 4,
   "id": "a1e2799d-73b5-4b46-b945-fd201259b3df",
   "metadata": {},
   "outputs": [
    {
     "data": {
      "text/html": [
       "<div>\n",
       "<style scoped>\n",
       "    .dataframe tbody tr th:only-of-type {\n",
       "        vertical-align: middle;\n",
       "    }\n",
       "\n",
       "    .dataframe tbody tr th {\n",
       "        vertical-align: top;\n",
       "    }\n",
       "\n",
       "    .dataframe thead th {\n",
       "        text-align: right;\n",
       "    }\n",
       "</style>\n",
       "<table border=\"1\" class=\"dataframe\">\n",
       "  <thead>\n",
       "    <tr style=\"text-align: right;\">\n",
       "      <th></th>\n",
       "      <th>Date</th>\n",
       "      <th>Time</th>\n",
       "      <th>User1 ID</th>\n",
       "      <th>User2 ID</th>\n",
       "      <th>text</th>\n",
       "      <th>status</th>\n",
       "      <th>text_processed</th>\n",
       "    </tr>\n",
       "  </thead>\n",
       "  <tbody>\n",
       "    <tr>\n",
       "      <th>0</th>\n",
       "      <td>2021-03-04</td>\n",
       "      <td>10:17</td>\n",
       "      <td>1</td>\n",
       "      <td>2</td>\n",
       "      <td>bye bye dear bajaj  i got some better work to ...</td>\n",
       "      <td>1</td>\n",
       "      <td>bye bye dear bajaj get good work watch ur funn...</td>\n",
       "    </tr>\n",
       "    <tr>\n",
       "      <th>1</th>\n",
       "      <td>2022-01-24</td>\n",
       "      <td>04:27</td>\n",
       "      <td>1</td>\n",
       "      <td>2</td>\n",
       "      <td>Haha your so funny you sit on wikipedia all da...</td>\n",
       "      <td>1</td>\n",
       "      <td>haha funny sit wikipedia day make sure everyth...</td>\n",
       "    </tr>\n",
       "    <tr>\n",
       "      <th>2</th>\n",
       "      <td>2021-02-03</td>\n",
       "      <td>02:19</td>\n",
       "      <td>1</td>\n",
       "      <td>2</td>\n",
       "      <td>My problem is people talking out of their asse...</td>\n",
       "      <td>1</td>\n",
       "      <td>problem people talk ass fault people stupid ma...</td>\n",
       "    </tr>\n",
       "    <tr>\n",
       "      <th>3</th>\n",
       "      <td>2021-09-04</td>\n",
       "      <td>08:54</td>\n",
       "      <td>1</td>\n",
       "      <td>2</td>\n",
       "      <td>Article updated</td>\n",
       "      <td>0</td>\n",
       "      <td>article update</td>\n",
       "    </tr>\n",
       "    <tr>\n",
       "      <th>4</th>\n",
       "      <td>2021-07-21</td>\n",
       "      <td>13:15</td>\n",
       "      <td>1</td>\n",
       "      <td>2</td>\n",
       "      <td>Well arent you phucking special Its easy to ha...</td>\n",
       "      <td>1</td>\n",
       "      <td>well arent phucking special easy thing still l...</td>\n",
       "    </tr>\n",
       "  </tbody>\n",
       "</table>\n",
       "</div>"
      ],
      "text/plain": [
       "         Date   Time  User1 ID  User2 ID  \\\n",
       "0  2021-03-04  10:17         1         2   \n",
       "1  2022-01-24  04:27         1         2   \n",
       "2  2021-02-03  02:19         1         2   \n",
       "3  2021-09-04  08:54         1         2   \n",
       "4  2021-07-21  13:15         1         2   \n",
       "\n",
       "                                                text  status  \\\n",
       "0  bye bye dear bajaj  i got some better work to ...       1   \n",
       "1  Haha your so funny you sit on wikipedia all da...       1   \n",
       "2  My problem is people talking out of their asse...       1   \n",
       "3                                    Article updated       0   \n",
       "4  Well arent you phucking special Its easy to ha...       1   \n",
       "\n",
       "                                      text_processed  \n",
       "0  bye bye dear bajaj get good work watch ur funn...  \n",
       "1  haha funny sit wikipedia day make sure everyth...  \n",
       "2  problem people talk ass fault people stupid ma...  \n",
       "3                                     article update  \n",
       "4  well arent phucking special easy thing still l...  "
      ]
     },
     "execution_count": 4,
     "metadata": {},
     "output_type": "execute_result"
    }
   ],
   "source": [
    "df.head()"
   ]
  },
  {
   "cell_type": "code",
   "execution_count": 5,
   "id": "fd2403aa-7efc-4bb8-a9e8-b91ff512493a",
   "metadata": {},
   "outputs": [
    {
     "name": "stdout",
     "output_type": "stream",
     "text": [
      "<class 'pandas.core.frame.DataFrame'>\n",
      "RangeIndex: 90356 entries, 0 to 90355\n",
      "Data columns (total 7 columns):\n",
      " #   Column          Non-Null Count  Dtype \n",
      "---  ------          --------------  ----- \n",
      " 0   Date            90356 non-null  object\n",
      " 1   Time            90356 non-null  object\n",
      " 2   User1 ID        90356 non-null  int64 \n",
      " 3   User2 ID        90356 non-null  int64 \n",
      " 4   text            90356 non-null  object\n",
      " 5   status          90356 non-null  int64 \n",
      " 6   text_processed  90307 non-null  object\n",
      "dtypes: int64(3), object(4)\n",
      "memory usage: 4.8+ MB\n"
     ]
    }
   ],
   "source": [
    "df.info()"
   ]
  },
  {
   "cell_type": "code",
   "execution_count": 6,
   "id": "9b40e581-dfa4-4b1a-9b37-5f10f93b0466",
   "metadata": {},
   "outputs": [],
   "source": [
    "from sklearn.feature_extraction.text import CountVectorizer,TfidfVectorizer\n",
    "from sklearn.model_selection import train_test_split"
   ]
  },
  {
   "cell_type": "code",
   "execution_count": 7,
   "id": "1a1573e3-870f-4977-aab3-44fa8dea34f4",
   "metadata": {},
   "outputs": [
    {
     "data": {
      "text/plain": [
       "array([1, 0])"
      ]
     },
     "execution_count": 7,
     "metadata": {},
     "output_type": "execute_result"
    }
   ],
   "source": [
    "df['status'].unique()"
   ]
  },
  {
   "cell_type": "code",
   "execution_count": 8,
   "id": "800279b6-4720-4ad7-8d50-40a1cb0c3205",
   "metadata": {},
   "outputs": [],
   "source": [
    "# df['status_num'] = df['status'].map({'not_cyberbullying':0, 'gender':1, 'religion':2, 'other_cyberbullying':3,\n",
    "#        'age':4, 'ethnicity':5})\n",
    "df['status_num'] = df['status']"
   ]
  },
  {
   "cell_type": "code",
   "execution_count": 9,
   "id": "5b14b41d-c2b9-414b-aa1a-453652e15dfc",
   "metadata": {},
   "outputs": [],
   "source": [
    "X = df['text_processed']\n",
    "y = df['status_num']"
   ]
  },
  {
   "cell_type": "code",
   "execution_count": 10,
   "id": "eff8f1c4-fa03-41a7-98e3-27a525da67e2",
   "metadata": {},
   "outputs": [],
   "source": [
    "X_train, X_test, y_train, y_test = train_test_split(X,y,test_size=0.2)"
   ]
  },
  {
   "cell_type": "code",
   "execution_count": 11,
   "id": "a9fcfd60-5396-477c-a6ee-99899d172ae0",
   "metadata": {},
   "outputs": [],
   "source": [
    "y_train_exp = np.expand_dims(np.array(y_train),axis=-1)\n",
    "y_test_exp = np.expand_dims(np.array(y_test),axis=-1)"
   ]
  },
  {
   "cell_type": "code",
   "execution_count": 12,
   "id": "d82607f0-5248-4202-87a7-e57c6550e7e7",
   "metadata": {
    "scrolled": true
   },
   "outputs": [],
   "source": [
    "cv = CountVectorizer()\n",
    "\n",
    "cv.fit(X_train.values.astype('U')) # str will also work\n",
    "X_train_trans = cv.transform(X_train.values.astype('U'))\n",
    "X_test_trans = cv.transform(X_test.values.astype('str'))"
   ]
  },
  {
   "cell_type": "code",
   "execution_count": null,
   "id": "9b592b30-9abb-499d-b68a-580e45959f3b",
   "metadata": {},
   "outputs": [],
   "source": []
  },
  {
   "cell_type": "code",
   "execution_count": 41,
   "id": "1d8c017e-a12e-4060-8eb6-605ddc126c34",
   "metadata": {},
   "outputs": [
    {
     "name": "stdout",
     "output_type": "stream",
     "text": [
      "/Applications/anaconda3/envs/miscEnv/bin/python\n"
     ]
    }
   ],
   "source": [
    "# !where python"
   ]
  },
  {
   "cell_type": "code",
   "execution_count": 15,
   "id": "e35074fa-61c8-440c-9978-e6c84c1c1b11",
   "metadata": {},
   "outputs": [],
   "source": [
    "from sklearn.linear_model import LogisticRegression\n",
    "from sklearn.svm import SVC\n",
    "from sklearn.tree import DecisionTreeClassifier\n",
    "from sklearn.naive_bayes import MultinomialNB, GaussianNB, BernoulliNB\n",
    "from sklearn.neighbors import KNeighborsClassifier\n",
    "from sklearn.ensemble import RandomForestClassifier, AdaBoostClassifier, BaggingClassifier, ExtraTreesClassifier, GradientBoostingClassifier\n",
    "from xgboost import XGBClassifier"
   ]
  },
  {
   "cell_type": "code",
   "execution_count": 16,
   "id": "eee12833-de74-48c1-800f-8d3c9f79d9aa",
   "metadata": {},
   "outputs": [],
   "source": [
    "from sklearn.metrics import confusion_matrix, accuracy_score, roc_curve"
   ]
  },
  {
   "cell_type": "code",
   "execution_count": 17,
   "id": "cbd06ad1-2fd3-4a0d-8c59-566b4762414a",
   "metadata": {},
   "outputs": [],
   "source": [
    "# lr = LogisticRegression()\n",
    "svc = SVC(kernel='sigmoid',gamma=1.0)\n",
    "dtc = DecisionTreeClassifier(max_depth=5)\n",
    "mnb = MultinomialNB()\n",
    "gnb = GaussianNB()\n",
    "bnb = BernoulliNB()\n",
    "knc = KNeighborsClassifier()\n",
    "rf = RandomForestClassifier()\n",
    "abc = AdaBoostClassifier(n_estimators=50, random_state = 32)\n",
    "bc = BaggingClassifier(n_estimators=50, random_state=32)\n",
    "etc = ExtraTreesClassifier(n_estimators = 50, random_state = 32)\n",
    "gbdt = GradientBoostingClassifier(n_estimators = 50,random_state = 32)\n",
    "# xgb = XGBClassifier(n_estimators=50, random_state = 32)"
   ]
  },
  {
   "cell_type": "code",
   "execution_count": 18,
   "id": "0101b8bd-66da-46b5-aed2-f10f98252a37",
   "metadata": {},
   "outputs": [],
   "source": [
    "mdls = {\n",
    "'svc':svc, # too much time\n",
    "'dtc':dtc, \n",
    "'mnb':mnb,\n",
    "# 'gnb':gnb, # sparse data issue\n",
    "'bnb':bnb,\n",
    "'knc':knc,\n",
    "'rf':rf,\n",
    "'abc':abc,\n",
    "'bc':bc, # too much time\n",
    "'etc':etc, # too much time\n",
    "'gbdt':gbdt,\n",
    "# 'xgb':xgb,\n",
    "}"
   ]
  },
  {
   "cell_type": "code",
   "execution_count": 19,
   "id": "103a6bcc-fac1-41b6-b6ea-f04b772eecc2",
   "metadata": {},
   "outputs": [],
   "source": [
    "# # mdls = {\n",
    "# #     # \"lr\":lr,\n",
    "# #     \"mnb\":mnb,\n",
    "# #     \"knc\":knc,\n",
    "# #     \"dtc\":dtc,\n",
    "# #     \"abc\":abc,\n",
    "# #     \"gbdt\":gbdt,\n",
    "# #     \"xgb\":xgb,\n",
    "# #     \"bc\":bc,\n",
    "# #     \"svc\":svc,\n",
    "# #     \"etc\":etc,\n",
    "# # }\n",
    "\n",
    "# mdls = {\n",
    "# # 'svc':svc, # too much time\n",
    "# 'dtc':dtc, \n",
    "# # 'mnb':mnb,\n",
    "# # 'gnb':gnb, # won't work\n",
    "# 'bnb':bnb,\n",
    "# # 'knc':knc,\n",
    "# 'rf':rf,\n",
    "# # 'abc':abc,\n",
    "# # 'bc':bc, # too much time\n",
    "# # 'etc':etc, # too much time\n",
    "# # 'gbdt':gbdt,\n",
    "# # 'xgb':xgb,\n",
    "# }\n"
   ]
  },
  {
   "cell_type": "code",
   "execution_count": 20,
   "id": "0522c39f-e618-49ca-a6b2-067436a9ff9a",
   "metadata": {},
   "outputs": [],
   "source": [
    "# bnb.fit(X_train_trans,y_train)\n",
    "# y_pred2 = bnb.predict(X_test_trans)"
   ]
  },
  {
   "cell_type": "code",
   "execution_count": 21,
   "id": "04b30e08-928b-4876-800e-7ab3bf352eca",
   "metadata": {},
   "outputs": [],
   "source": [
    "# print(accuracy_score(y_test,y_pred2))\n"
   ]
  },
  {
   "cell_type": "code",
   "execution_count": null,
   "id": "377ed1f8-8781-4ddb-b020-36fdfb37267e",
   "metadata": {},
   "outputs": [],
   "source": []
  },
  {
   "cell_type": "code",
   "execution_count": 22,
   "id": "0d9d9d84-4024-42e1-9007-5c0099032e03",
   "metadata": {},
   "outputs": [],
   "source": [
    "def predict_mdl(mdl, X_train, y_train, X_test, y_test):\n",
    "    \"\"\"Trains model and returns (accuracy,precision)\"\"\"\n",
    "    mdl.fit(X_train, y_train)\n",
    "    y_preds = mdl.predict(X_test)\n",
    "\n",
    "    # print('hi')\n",
    "    print(accuracy_score(y_test,y_preds))\n",
    "    # print(confusion_matrix(y_test,y_preds))\n",
    "\n",
    "    return accuracy_score(y_preds, y_test)"
   ]
  },
  {
   "cell_type": "code",
   "execution_count": 23,
   "id": "67a6b32f-1595-4b5f-8af9-b8ab7a0f8097",
   "metadata": {},
   "outputs": [
    {
     "name": "stdout",
     "output_type": "stream",
     "text": [
      "\n",
      "---===------===------===------===------===---\n",
      "svc\n"
     ]
    }
   ],
   "source": [
    "names = []\n",
    "accuracies = []\n",
    "# precisions = []\n",
    "for name, mdl in mdls.items():\n",
    "    print()\n",
    "    print(\"---===---\"*5)\n",
    "    print(name)\n",
    "    acc = predict_mdl(mdl, X_train_trans, y_train, X_test_trans, y_test)\n",
    "    print(acc)\n",
    "    names.append(name)\n",
    "    accuracies.append(acc)\n"
   ]
  },
  {
   "cell_type": "code",
   "execution_count": null,
   "id": "30f3c8df-dc9c-41a8-a907-5d3eebcabbc0",
   "metadata": {},
   "outputs": [
    {
     "data": {
      "text/html": [
       "<div>\n",
       "<style scoped>\n",
       "    .dataframe tbody tr th:only-of-type {\n",
       "        vertical-align: middle;\n",
       "    }\n",
       "\n",
       "    .dataframe tbody tr th {\n",
       "        vertical-align: top;\n",
       "    }\n",
       "\n",
       "    .dataframe thead th {\n",
       "        text-align: right;\n",
       "    }\n",
       "</style>\n",
       "<table border=\"1\" class=\"dataframe\">\n",
       "  <thead>\n",
       "    <tr style=\"text-align: right;\">\n",
       "      <th></th>\n",
       "      <th>models_cv-1</th>\n",
       "      <th>accuracy_cv-1</th>\n",
       "    </tr>\n",
       "  </thead>\n",
       "  <tbody>\n",
       "    <tr>\n",
       "      <th>0</th>\n",
       "      <td>mnb</td>\n",
       "      <td>0.781843</td>\n",
       "    </tr>\n",
       "    <tr>\n",
       "      <th>1</th>\n",
       "      <td>knc</td>\n",
       "      <td>0.709823</td>\n",
       "    </tr>\n",
       "    <tr>\n",
       "      <th>2</th>\n",
       "      <td>dtc</td>\n",
       "      <td>0.638851</td>\n",
       "    </tr>\n",
       "    <tr>\n",
       "      <th>3</th>\n",
       "      <td>abc</td>\n",
       "      <td>0.798511</td>\n",
       "    </tr>\n",
       "    <tr>\n",
       "      <th>4</th>\n",
       "      <td>gbdt</td>\n",
       "      <td>0.826816</td>\n",
       "    </tr>\n",
       "    <tr>\n",
       "      <th>5</th>\n",
       "      <td>xgb</td>\n",
       "      <td>0.846105</td>\n",
       "    </tr>\n",
       "    <tr>\n",
       "      <th>6</th>\n",
       "      <td>bc</td>\n",
       "      <td>0.822937</td>\n",
       "    </tr>\n",
       "    <tr>\n",
       "      <th>7</th>\n",
       "      <td>svc</td>\n",
       "      <td>0.557291</td>\n",
       "    </tr>\n",
       "    <tr>\n",
       "      <th>8</th>\n",
       "      <td>etc</td>\n",
       "      <td>0.824929</td>\n",
       "    </tr>\n",
       "  </tbody>\n",
       "</table>\n",
       "</div>"
      ],
      "text/plain": [
       "  models_cv-1  accuracy_cv-1\n",
       "0         mnb       0.781843\n",
       "1         knc       0.709823\n",
       "2         dtc       0.638851\n",
       "3         abc       0.798511\n",
       "4        gbdt       0.826816\n",
       "5         xgb       0.846105\n",
       "6          bc       0.822937\n",
       "7         svc       0.557291\n",
       "8         etc       0.824929"
      ]
     },
     "execution_count": 57,
     "metadata": {},
     "output_type": "execute_result"
    }
   ],
   "source": [
    "res_df = pd.DataFrame({\"models_cv-1\":names,\"accuracy_cv-1\":accuracies})\n",
    "res_df"
   ]
  },
  {
   "cell_type": "code",
   "execution_count": null,
   "id": "971d8a0b-4bbf-4b20-9bc6-f521c12e713a",
   "metadata": {},
   "outputs": [],
   "source": [
    "res_df.to_csv(res_path, index=False)"
   ]
  },
  {
   "cell_type": "code",
   "execution_count": null,
   "id": "0c06a4b4-8bba-44d2-80fd-e4785b1c8f5d",
   "metadata": {},
   "outputs": [],
   "source": []
  },
  {
   "cell_type": "code",
   "execution_count": null,
   "id": "b467c3a8-b389-4e71-b499-e6869b2c2684",
   "metadata": {},
   "outputs": [
    {
     "name": "stdout",
     "output_type": "stream",
     "text": [
      "\n",
      "---===------===------===------===------===---\n",
      "dtc\n",
      "0.6388510326029982\n",
      "0.6388510326029982\n",
      "\n",
      "---===------===------===------===------===---\n",
      "bnb\n",
      "0.8229374148233567\n",
      "0.8229374148233567\n",
      "\n",
      "---===------===------===------===------===---\n",
      "rf\n",
      "0.821784254114687\n",
      "0.821784254114687\n"
     ]
    }
   ],
   "source": [
    "# names1 = []\n",
    "# accuracies1 = []\n",
    "# for name, mdl in mdls.items():\n",
    "#     print()\n",
    "#     print(\"---===---\"*5)\n",
    "#     print(name)\n",
    "#     acc = predict_mdl(mdl, X_train_trans, y_train, X_test_trans, y_test)\n",
    "#     print(acc)\n",
    "#     names1.append(name)\n",
    "#     accuracies1.append(acc)\n"
   ]
  },
  {
   "cell_type": "code",
   "execution_count": null,
   "id": "d7c8f004-fa18-4774-8411-ec6cf4173e05",
   "metadata": {},
   "outputs": [],
   "source": [
    "# res_df = pd.concat([res_df,res_df2],ignore_index=True)\n"
   ]
  },
  {
   "cell_type": "code",
   "execution_count": 1,
   "id": "d0641de2-52b4-41cf-8fab-8ce0ce4ff7a7",
   "metadata": {},
   "outputs": [
    {
     "ename": "NameError",
     "evalue": "name 'res_df' is not defined",
     "output_type": "error",
     "traceback": [
      "\u001b[0;31m---------------------------------------------------------------------------\u001b[0m",
      "\u001b[0;31mNameError\u001b[0m                                 Traceback (most recent call last)",
      "Cell \u001b[0;32mIn[1], line 2\u001b[0m\n\u001b[1;32m      1\u001b[0m \u001b[38;5;66;03m# res_df.to_csv(res_path)\u001b[39;00m\n\u001b[0;32m----> 2\u001b[0m res_df\n",
      "\u001b[0;31mNameError\u001b[0m: name 'res_df' is not defined"
     ]
    }
   ],
   "source": [
    "# res_df.to_csv(res_path)\n",
    "# res_df"
   ]
  },
  {
   "cell_type": "code",
   "execution_count": null,
   "id": "f4ec1497-ea58-44bb-9d4d-8d5f3f526a6e",
   "metadata": {},
   "outputs": [],
   "source": []
  }
 ],
 "metadata": {
  "kernelspec": {
   "display_name": "Python 3 (ipykernel)",
   "language": "python",
   "name": "python3"
  },
  "language_info": {
   "codemirror_mode": {
    "name": "ipython",
    "version": 3
   },
   "file_extension": ".py",
   "mimetype": "text/x-python",
   "name": "python",
   "nbconvert_exporter": "python",
   "pygments_lexer": "ipython3",
   "version": "3.11.5"
  }
 },
 "nbformat": 4,
 "nbformat_minor": 5
}
