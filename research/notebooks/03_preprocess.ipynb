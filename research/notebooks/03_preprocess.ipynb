{
 "cells": [
  {
   "cell_type": "code",
   "execution_count": 2,
   "id": "8740c16c-e351-4afe-a609-aec4ede28a84",
   "metadata": {},
   "outputs": [],
   "source": [
    "import pandas as pd\n",
    "import string"
   ]
  },
  {
   "cell_type": "code",
   "execution_count": 3,
   "id": "45848394-5b45-48e0-b141-3946d84b2c80",
   "metadata": {},
   "outputs": [
    {
     "ename": "ModuleNotFoundError",
     "evalue": "No module named 'nltk'",
     "output_type": "error",
     "traceback": [
      "\u001b[0;31m---------------------------------------------------------------------------\u001b[0m",
      "\u001b[0;31mModuleNotFoundError\u001b[0m                       Traceback (most recent call last)",
      "Cell \u001b[0;32mIn[3], line 1\u001b[0m\n\u001b[0;32m----> 1\u001b[0m \u001b[38;5;28;01mimport\u001b[39;00m \u001b[38;5;21;01mnltk\u001b[39;00m\n",
      "\u001b[0;31mModuleNotFoundError\u001b[0m: No module named 'nltk'"
     ]
    }
   ],
   "source": [
    "import nltk"
   ]
  },
  {
   "cell_type": "code",
   "execution_count": 12,
   "id": "b517e018-f500-4c21-ac69-b237e33202bc",
   "metadata": {},
   "outputs": [
    {
     "name": "stderr",
     "output_type": "stream",
     "text": [
      "[nltk_data] Downloading package stopwords to /Users/suraj/nltk_data...\n",
      "[nltk_data]   Package stopwords is already up-to-date!\n",
      "[nltk_data] Downloading package wordnet to /Users/suraj/nltk_data...\n",
      "[nltk_data]   Package wordnet is already up-to-date!\n",
      "[nltk_data] Downloading package averaged_perceptron_tagger to\n",
      "[nltk_data]     /Users/suraj/nltk_data...\n",
      "[nltk_data]   Package averaged_perceptron_tagger is already up-to-\n",
      "[nltk_data]       date!\n"
     ]
    },
    {
     "data": {
      "text/plain": [
       "True"
      ]
     },
     "execution_count": 12,
     "metadata": {},
     "output_type": "execute_result"
    }
   ],
   "source": [
    "nltk.download(\"stopwords\")\n",
    "nltk.download('wordnet')\n",
    "nltk.download('averaged_perceptron_tagger')"
   ]
  },
  {
   "cell_type": "code",
   "execution_count": 13,
   "id": "abaa7d20-7172-4ec6-9a28-ba974f5e376a",
   "metadata": {},
   "outputs": [],
   "source": [
    "from nltk.corpus import stopwords, wordnet\n",
    "from nltk.stem import WordNetLemmatizer\n",
    "from nltk.tokenize import wordpunct_tokenize"
   ]
  },
  {
   "cell_type": "code",
   "execution_count": 14,
   "id": "37461eee-e2f2-4b7c-abbb-cbef3466ce33",
   "metadata": {},
   "outputs": [],
   "source": [
    "def get_wordnet_pos(pos):\n",
    "  if pos.startswith('J'):\n",
    "    return wordnet.ADJ\n",
    "  elif pos.startswith('V'):\n",
    "    return wordnet.VERB\n",
    "  elif pos.startswith('N'):\n",
    "    return wordnet.NOUN\n",
    "  elif pos.startswith(\"R\"):\n",
    "    return wordnet.ADV\n",
    "  else:\n",
    "    return wordnet.NOUN"
   ]
  },
  {
   "cell_type": "code",
   "execution_count": null,
   "id": "30f1226a-b5c4-4a1c-aee6-eaf5cf67e3fc",
   "metadata": {},
   "outputs": [],
   "source": []
  },
  {
   "cell_type": "code",
   "execution_count": 15,
   "id": "83f60727-a0e9-46f4-b061-5a0f35654ee7",
   "metadata": {},
   "outputs": [],
   "source": [
    "def process_sentence(sent):\n",
    "    # lowercasing\n",
    "    sen = sent.lower()\n",
    "\n",
    "    # tokenizing\n",
    "    tkns = wordpunct_tokenize(sen)\n",
    "\n",
    "    # removing stopwords and punctuations\n",
    "    stops = stopwords.words('english')\n",
    "    stops.extend([\"..\",\"...\"])\n",
    "    puncts = string.punctuation\n",
    "    clean = []\n",
    "    for word in tkns:\n",
    "        if word not in stops and word not in puncts:\n",
    "            clean.append(word)\n",
    "\n",
    "    # word lemmatization\n",
    "    word_tags = nltk.pos_tag(clean)\n",
    "    lemm = WordNetLemmatizer()\n",
    "    word_lemm = []\n",
    "    for word,tag in word_tags:\n",
    "        word_lemm.append(lemm.lemmatize(word,get_wordnet_pos(tag)))\n",
    "\n",
    "    sen = None\n",
    "    tkns = None\n",
    "    clean = None\n",
    "    word_tags = None\n",
    "    \n",
    "    return word_lemm"
   ]
  },
  {
   "cell_type": "code",
   "execution_count": null,
   "id": "53afc518-5dca-463c-9c42-e6a40e450539",
   "metadata": {},
   "outputs": [],
   "source": []
  },
  {
   "cell_type": "code",
   "execution_count": null,
   "id": "c4c5d9e3-f1a0-43dc-9b36-6313921f03a1",
   "metadata": {},
   "outputs": [],
   "source": []
  },
  {
   "cell_type": "code",
   "execution_count": null,
   "id": "3b1194e8-a627-4322-b565-78ba981076b1",
   "metadata": {},
   "outputs": [],
   "source": []
  },
  {
   "cell_type": "code",
   "execution_count": null,
   "id": "4ec3c44b-d146-477e-8640-e5b2871e7d3d",
   "metadata": {},
   "outputs": [],
   "source": []
  },
  {
   "cell_type": "code",
   "execution_count": null,
   "id": "c2230d4a-47e6-4599-980a-85a7e813434d",
   "metadata": {},
   "outputs": [],
   "source": []
  }
 ],
 "metadata": {
  "kernelspec": {
   "display_name": "Python 3 (ipykernel)",
   "language": "python",
   "name": "python3"
  },
  "language_info": {
   "codemirror_mode": {
    "name": "ipython",
    "version": 3
   },
   "file_extension": ".py",
   "mimetype": "text/x-python",
   "name": "python",
   "nbconvert_exporter": "python",
   "pygments_lexer": "ipython3",
   "version": "3.11.5"
  }
 },
 "nbformat": 4,
 "nbformat_minor": 5
}
