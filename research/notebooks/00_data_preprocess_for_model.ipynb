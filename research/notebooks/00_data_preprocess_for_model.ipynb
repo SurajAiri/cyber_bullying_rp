{
 "cells": [
  {
   "cell_type": "code",
   "execution_count": 2,
   "metadata": {},
   "outputs": [],
   "source": [
    "import numpy as np\n",
    "import pandas as pd\n",
    "from word_process import WordProcess\n"
   ]
  },
  {
   "cell_type": "code",
   "execution_count": 6,
   "metadata": {},
   "outputs": [],
   "source": [
    "data_path = \"../../dataset/3/A Comprehensive Dataset for Automated Cyberbullying Detection/5. Communication_Data_Among_Users.csv\"\n",
    "modified_data_path = \"../../dataset/3-5modified.csv\""
   ]
  },
  {
   "cell_type": "code",
   "execution_count": 7,
   "metadata": {},
   "outputs": [],
   "source": [
    "df = pd.read_csv(data_path)"
   ]
  },
  {
   "cell_type": "code",
   "execution_count": 8,
   "metadata": {},
   "outputs": [
    {
     "data": {
      "text/html": [
       "<div>\n",
       "<style scoped>\n",
       "    .dataframe tbody tr th:only-of-type {\n",
       "        vertical-align: middle;\n",
       "    }\n",
       "\n",
       "    .dataframe tbody tr th {\n",
       "        vertical-align: top;\n",
       "    }\n",
       "\n",
       "    .dataframe thead th {\n",
       "        text-align: right;\n",
       "    }\n",
       "</style>\n",
       "<table border=\"1\" class=\"dataframe\">\n",
       "  <thead>\n",
       "    <tr style=\"text-align: right;\">\n",
       "      <th></th>\n",
       "      <th>Date</th>\n",
       "      <th>Time</th>\n",
       "      <th>User1 ID</th>\n",
       "      <th>User2 ID</th>\n",
       "      <th>Message</th>\n",
       "      <th>Label</th>\n",
       "    </tr>\n",
       "  </thead>\n",
       "  <tbody>\n",
       "    <tr>\n",
       "      <th>0</th>\n",
       "      <td>2021-03-04</td>\n",
       "      <td>10:17</td>\n",
       "      <td>1</td>\n",
       "      <td>2</td>\n",
       "      <td>bye bye dear bajaj  i got some better work to ...</td>\n",
       "      <td>1</td>\n",
       "    </tr>\n",
       "    <tr>\n",
       "      <th>1</th>\n",
       "      <td>2022-01-24</td>\n",
       "      <td>04:27</td>\n",
       "      <td>1</td>\n",
       "      <td>2</td>\n",
       "      <td>Haha your so funny you sit on wikipedia all da...</td>\n",
       "      <td>1</td>\n",
       "    </tr>\n",
       "    <tr>\n",
       "      <th>2</th>\n",
       "      <td>2021-02-03</td>\n",
       "      <td>02:19</td>\n",
       "      <td>1</td>\n",
       "      <td>2</td>\n",
       "      <td>My problem is people talking out of their asse...</td>\n",
       "      <td>1</td>\n",
       "    </tr>\n",
       "    <tr>\n",
       "      <th>3</th>\n",
       "      <td>2021-09-04</td>\n",
       "      <td>08:54</td>\n",
       "      <td>1</td>\n",
       "      <td>2</td>\n",
       "      <td>Article updated</td>\n",
       "      <td>0</td>\n",
       "    </tr>\n",
       "    <tr>\n",
       "      <th>4</th>\n",
       "      <td>2021-07-21</td>\n",
       "      <td>13:15</td>\n",
       "      <td>1</td>\n",
       "      <td>2</td>\n",
       "      <td>Well arent you phucking special Its easy to ha...</td>\n",
       "      <td>1</td>\n",
       "    </tr>\n",
       "  </tbody>\n",
       "</table>\n",
       "</div>"
      ],
      "text/plain": [
       "         Date   Time  User1 ID  User2 ID  \\\n",
       "0  2021-03-04  10:17         1         2   \n",
       "1  2022-01-24  04:27         1         2   \n",
       "2  2021-02-03  02:19         1         2   \n",
       "3  2021-09-04  08:54         1         2   \n",
       "4  2021-07-21  13:15         1         2   \n",
       "\n",
       "                                             Message  Label  \n",
       "0  bye bye dear bajaj  i got some better work to ...      1  \n",
       "1  Haha your so funny you sit on wikipedia all da...      1  \n",
       "2  My problem is people talking out of their asse...      1  \n",
       "3                                    Article updated      0  \n",
       "4  Well arent you phucking special Its easy to ha...      1  "
      ]
     },
     "execution_count": 8,
     "metadata": {},
     "output_type": "execute_result"
    }
   ],
   "source": [
    "df.head()"
   ]
  },
  {
   "cell_type": "code",
   "execution_count": 9,
   "metadata": {},
   "outputs": [],
   "source": [
    "df.rename(columns={\"Label\":\"status\",\"Message\":\"text\"},inplace=True)"
   ]
  },
  {
   "cell_type": "code",
   "execution_count": 10,
   "metadata": {},
   "outputs": [
    {
     "name": "stderr",
     "output_type": "stream",
     "text": [
      "[nltk_data] Downloading package stopwords to /Users/suraj/nltk_data...\n",
      "[nltk_data]   Package stopwords is already up-to-date!\n",
      "[nltk_data] Downloading package wordnet to /Users/suraj/nltk_data...\n",
      "[nltk_data]   Package wordnet is already up-to-date!\n",
      "[nltk_data] Downloading package averaged_perceptron_tagger to\n",
      "[nltk_data]     /Users/suraj/nltk_data...\n",
      "[nltk_data]   Package averaged_perceptron_tagger is already up-to-\n",
      "[nltk_data]       date!\n"
     ]
    }
   ],
   "source": [
    "wp = WordProcess()"
   ]
  },
  {
   "cell_type": "code",
   "execution_count": 11,
   "metadata": {},
   "outputs": [],
   "source": [
    "df['text_processed'] = df['text'].apply(wp.process_sent2sent)"
   ]
  },
  {
   "cell_type": "code",
   "execution_count": 12,
   "metadata": {},
   "outputs": [
    {
     "data": {
      "text/html": [
       "<div>\n",
       "<style scoped>\n",
       "    .dataframe tbody tr th:only-of-type {\n",
       "        vertical-align: middle;\n",
       "    }\n",
       "\n",
       "    .dataframe tbody tr th {\n",
       "        vertical-align: top;\n",
       "    }\n",
       "\n",
       "    .dataframe thead th {\n",
       "        text-align: right;\n",
       "    }\n",
       "</style>\n",
       "<table border=\"1\" class=\"dataframe\">\n",
       "  <thead>\n",
       "    <tr style=\"text-align: right;\">\n",
       "      <th></th>\n",
       "      <th>Date</th>\n",
       "      <th>Time</th>\n",
       "      <th>User1 ID</th>\n",
       "      <th>User2 ID</th>\n",
       "      <th>text</th>\n",
       "      <th>status</th>\n",
       "      <th>text_processed</th>\n",
       "    </tr>\n",
       "  </thead>\n",
       "  <tbody>\n",
       "    <tr>\n",
       "      <th>0</th>\n",
       "      <td>2021-03-04</td>\n",
       "      <td>10:17</td>\n",
       "      <td>1</td>\n",
       "      <td>2</td>\n",
       "      <td>bye bye dear bajaj  i got some better work to ...</td>\n",
       "      <td>1</td>\n",
       "      <td>bye bye dear bajaj get good work watch ur funn...</td>\n",
       "    </tr>\n",
       "    <tr>\n",
       "      <th>1</th>\n",
       "      <td>2022-01-24</td>\n",
       "      <td>04:27</td>\n",
       "      <td>1</td>\n",
       "      <td>2</td>\n",
       "      <td>Haha your so funny you sit on wikipedia all da...</td>\n",
       "      <td>1</td>\n",
       "      <td>haha funny sit wikipedia day make sure everyth...</td>\n",
       "    </tr>\n",
       "    <tr>\n",
       "      <th>2</th>\n",
       "      <td>2021-02-03</td>\n",
       "      <td>02:19</td>\n",
       "      <td>1</td>\n",
       "      <td>2</td>\n",
       "      <td>My problem is people talking out of their asse...</td>\n",
       "      <td>1</td>\n",
       "      <td>problem people talk ass fault people stupid ma...</td>\n",
       "    </tr>\n",
       "    <tr>\n",
       "      <th>3</th>\n",
       "      <td>2021-09-04</td>\n",
       "      <td>08:54</td>\n",
       "      <td>1</td>\n",
       "      <td>2</td>\n",
       "      <td>Article updated</td>\n",
       "      <td>0</td>\n",
       "      <td>article update</td>\n",
       "    </tr>\n",
       "    <tr>\n",
       "      <th>4</th>\n",
       "      <td>2021-07-21</td>\n",
       "      <td>13:15</td>\n",
       "      <td>1</td>\n",
       "      <td>2</td>\n",
       "      <td>Well arent you phucking special Its easy to ha...</td>\n",
       "      <td>1</td>\n",
       "      <td>well arent phucking special easy thing still l...</td>\n",
       "    </tr>\n",
       "  </tbody>\n",
       "</table>\n",
       "</div>"
      ],
      "text/plain": [
       "         Date   Time  User1 ID  User2 ID  \\\n",
       "0  2021-03-04  10:17         1         2   \n",
       "1  2022-01-24  04:27         1         2   \n",
       "2  2021-02-03  02:19         1         2   \n",
       "3  2021-09-04  08:54         1         2   \n",
       "4  2021-07-21  13:15         1         2   \n",
       "\n",
       "                                                text  status  \\\n",
       "0  bye bye dear bajaj  i got some better work to ...       1   \n",
       "1  Haha your so funny you sit on wikipedia all da...       1   \n",
       "2  My problem is people talking out of their asse...       1   \n",
       "3                                    Article updated       0   \n",
       "4  Well arent you phucking special Its easy to ha...       1   \n",
       "\n",
       "                                      text_processed  \n",
       "0  bye bye dear bajaj get good work watch ur funn...  \n",
       "1  haha funny sit wikipedia day make sure everyth...  \n",
       "2  problem people talk ass fault people stupid ma...  \n",
       "3                                     article update  \n",
       "4  well arent phucking special easy thing still l...  "
      ]
     },
     "execution_count": 12,
     "metadata": {},
     "output_type": "execute_result"
    }
   ],
   "source": [
    "df.head()"
   ]
  },
  {
   "cell_type": "code",
   "execution_count": 13,
   "metadata": {},
   "outputs": [],
   "source": [
    "df.to_csv(modified_data_path,index=False)"
   ]
  },
  {
   "cell_type": "code",
   "execution_count": null,
   "metadata": {},
   "outputs": [],
   "source": []
  }
 ],
 "metadata": {
  "kernelspec": {
   "display_name": ".venv",
   "language": "python",
   "name": "python3"
  },
  "language_info": {
   "codemirror_mode": {
    "name": "ipython",
    "version": 3
   },
   "file_extension": ".py",
   "mimetype": "text/x-python",
   "name": "python",
   "nbconvert_exporter": "python",
   "pygments_lexer": "ipython3",
   "version": "3.11.5"
  }
 },
 "nbformat": 4,
 "nbformat_minor": 2
}
